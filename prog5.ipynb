{
  "cells": [
    {
      "cell_type": "code",
      "execution_count": null,
      "metadata": {
        "colab": {
          "base_uri": "https://localhost:8080/"
        },
        "id": "2c7nIkaYyK7q",
        "outputId": "0c9f1850-c3ba-4e2f-ceca-0a3dee8a70a0"
      },
      "outputs": [
        {
          "name": "stdout",
          "output_type": "stream",
          "text": [
            "Drive already mounted at /content/drive; to attempt to forcibly remount, call drive.mount(\"/content/drive\", force_remount=True).\n"
          ]
        }
      ],
      "source": [
        "from google.colab import drive\n",
        "drive.mount('/content/drive')"
      ]
    },
    {
      "cell_type": "code",
      "execution_count": null,
      "metadata": {
        "colab": {
          "base_uri": "https://localhost:8080/"
        },
        "id": "LS0AZC-VyZb_",
        "outputId": "2e834de9-74bb-4808-a0ca-4eb5ea63d7eb"
      },
      "outputs": [
        {
          "name": "stdout",
          "output_type": "stream",
          "text": [
            "[('This is very good place', 'pos'), ('I like this biryani', 'pos'), ('I feel very happy', 'pos'), ('This is my best work', 'pos'), ('I do not like this restaurant', 'neg'), ('I am tired of this stuff', 'neg'), (\"I can't deal with this\", 'neg')]\n"
          ]
        }
      ],
      "source": [
        "import csv\n",
        "with open('/bp.csv') as csvFile:\n",
        "    examples = [tuple(line) for line in csv.reader(csvFile)]\n",
        "print(examples)"
      ]
    },
    {
      "cell_type": "code",
      "execution_count": null,
      "metadata": {
        "colab": {
          "base_uri": "https://localhost:8080/"
        },
        "id": "3O3U2jfUyktm",
        "outputId": "edb6b932-2789-4d05-c46e-3ba0b130d3e4"
      },
      "outputs": [
        {
          "name": "stdout",
          "output_type": "stream",
          "text": [
            "The Total instances in the Dataset:  7\n",
            "                         Message Label\n",
            "0        This is very good place   pos\n",
            "1            I like this biryani   pos\n",
            "2              I feel very happy   pos\n",
            "3           This is my best work   pos\n",
            "4  I do not like this restaurant   neg\n",
            "5       I am tired of this stuff   neg\n",
            "6         I can't deal with this   neg\n",
            "                         Message Label  labelnum\n",
            "0        This is very good place   pos         1\n",
            "1            I like this biryani   pos         1\n",
            "2              I feel very happy   pos         1\n",
            "3           This is my best work   pos         1\n",
            "4  I do not like this restaurant   neg         0\n",
            "5       I am tired of this stuff   neg         0\n",
            "6         I can't deal with this   neg         0\n"
          ]
        }
      ],
      "source": [
        "import pandas as pd\n",
        "from sklearn.model_selection import train_test_split\n",
        "from sklearn.feature_extraction.text import CountVectorizer\n",
        "from sklearn.neural_network import MLPClassifier\n",
        "from sklearn.metrics import accuracy_score, confusion_matrix, precision_score, recall_score\n",
        "msglbl_data = pd.read_csv('/bp.csv', names=['Message', 'Label'])\n",
        "\n",
        "print(\"The Total instances in the Dataset: \", msglbl_data.shape[0])\n",
        "print(msglbl_data)\n",
        "\n",
        "msglbl_data['labelnum'] = msglbl_data.Label.map({'pos': 1, 'neg': 0})\n",
        "print(msglbl_data)"
      ]
    },
    {
      "cell_type": "code",
      "execution_count": null,
      "metadata": {
        "colab": {
          "background_save": true,
          "base_uri": "https://localhost:8080/"
        },
        "id": "0sPHn5QAytFC",
        "outputId": "d2d83d72-cf95-474d-84d4-7cb69ed98aa9"
      },
      "outputs": [
        {
          "name": "stdout",
          "output_type": "stream",
          "text": [
            "The Total instances in the Dataset:  7\n",
            "******** Accuracy Metrics *********\n",
            "Accuracy :  0.5\n",
            "Recall :  1.0\n",
            "Precision :  0.5\n",
            "Confusion Matrix : \n",
            " [[0 1]\n",
            " [0 1]]\n",
            "----------\n"
          ]
        }
      ],
      "source": [
        "# Read in the dataset\n",
        "msglbl_data = pd.read_csv('/bp.csv', names=['Message', 'Label'])\n",
        "\n",
        "# Print the number of instances in the dataset\n",
        "print(\"The Total instances in the Dataset: \", msglbl_data.shape[0])\n",
        "\n",
        "# Map the labels to binary values\n",
        "msglbl_data['labelnum'] = msglbl_data.Label.map({'pos': 1, 'neg': 0})\n",
        "\n",
        "# Split the data into training and testing sets\n",
        "X = msglbl_data[\"Message\"]\n",
        "Y = msglbl_data.labelnum\n",
        "Xtrain, Xtest, Ytrain, Ytest = train_test_split(X, Y)\n",
        "\n",
        "# Convert the text data into a sparse matrix of token counts\n",
        "count_vect = CountVectorizer()\n",
        "Xtrain_dims = count_vect.fit_transform(Xtrain)\n",
        "Xtest_dims = count_vect.transform(Xtest)\n",
        "\n",
        "# Create a Multi-Layer Perceptron (MLP) classifier\n",
        "clf = MLPClassifier(solver='lbfgs', alpha=1e-5, hidden_layer_sizes=(10, 2), random_state=1)\n",
        "\n",
        "# Train the classifier on the training data\n",
        "clf.fit(Xtrain_dims, Ytrain)\n",
        "\n",
        "# Predict the labels for the testing data\n",
        "prediction = clf.predict(Xtest_dims)\n",
        "\n",
        "# Print the accuracy, recall, precision, and confusion matrix of the classifier\n",
        "print('******** Accuracy Metrics *********')\n",
        "print('Accuracy : ', accuracy_score(Ytest, prediction))\n",
        "print('Recall : ', recall_score(Ytest, prediction))\n",
        "print('Precision : ',precision_score(Ytest, prediction))\n",
        "print('Confusion Matrix : \\n', confusion_matrix(Ytest, prediction))\n",
        "print(10*\"-\")\n",
        "\n",
        "# Prompt the user to enter a statement to predict its label\n",
        "test_stmt = [input(\"Enter any statement to predict: \")]\n",
        "test_dims = count_vect.transform(test_stmt)\n",
        "pred = clf.predict(test_dims)\n",
        "\n",
        "# Print the predicted label of the statement\n",
        "for stmt,lbl in zip(test_stmt,pred):\n",
        "    if lbl == 1:\n",
        "        print(\"Statement is Positive\")\n",
        "    else:\n",
        "        print(\"Statement is Negative\")"
      ]
    }
  ],
  "metadata": {
    "colab": {
      "provenance": []
    },
    "kernelspec": {
      "display_name": "Python 3",
      "name": "python3"
    },
    "language_info": {
      "name": "python"
    }
  },
  "nbformat": 4,
  "nbformat_minor": 0
}